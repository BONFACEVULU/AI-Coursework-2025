{
 "cells": [
  {
   "cell_type": "code",
   "execution_count": null,
   "id": "8d6ea0a1",
   "metadata": {},
   "outputs": [
    {
     "name": "stdout",
     "output_type": "stream",
     "text": [
      "5 days have 432000 seconds.\n"
     ]
    }
   ],
   "source": [
    "#question1\n",
    "# ask the user to type the number of days\n",
    "days = int(input(\"Enter number of days: \"))\n",
    "\n",
    "# work out the seconds in that many days (24 hours * 60 minutes * 60 seconds)\n",
    "seconds = days * 24 * 60 * 60\n",
    "\n",
    "# print the result in a readable way\n",
    "print(f\"{days} days have {seconds} seconds.\")\n"
   ]
  },
  {
   "cell_type": "code",
   "execution_count": null,
   "id": "29c4e1d3",
   "metadata": {},
   "outputs": [
    {
     "name": "stdout",
     "output_type": "stream",
     "text": [
      "The volume of the sphere is 113.10\n"
     ]
    }
   ],
   "source": [
    "#question 2\n",
    "# bring in the math module so we can use pi\n",
    "import math\n",
    "\n",
    "# get the radius of the sphere from the user\n",
    "radius = float(input(\"Enter the radius of the sphere: \"))\n",
    "\n",
    "# use the formula (4/3) * pi * r^3 to find the volume\n",
    "volume = (4/3) * math.pi * (radius ** 3)\n",
    "\n",
    "# show the volume rounded to 2 decimal places\n",
    "print(f\"The volume of the sphere is {volume:.2f}\")\n"
   ]
  },
  {
   "cell_type": "code",
   "execution_count": null,
   "id": "9b6a7a0c",
   "metadata": {},
   "outputs": [
    {
     "name": "stdout",
     "output_type": "stream",
     "text": [
      "Area of square: 16.0\n",
      "Perimeter of square: 16.0\n"
     ]
    }
   ],
   "source": [
    "#question 3\n",
    "# function that returns the area of a square\n",
    "def area(side):\n",
    "    return side * side\n",
    "\n",
    "# function that returns the perimeter of a square\n",
    "def perimeter(side):\n",
    "    return 4 * side\n",
    "\n",
    "# ask for the length of one side of the square\n",
    "side_length = float(input(\"Enter the side length of the square: \"))\n",
    "\n",
    "# display the results using the functions\n",
    "print(f\"Area of square: {area(side_length)}\")\n",
    "print(f\"Perimeter of square: {perimeter(side_length)}\")\n"
   ]
  },
  {
   "cell_type": "code",
   "execution_count": null,
   "id": "65a5fef2",
   "metadata": {},
   "outputs": [
    {
     "name": "stdout",
     "output_type": "stream",
     "text": [
      "The character is uppercase.\n"
     ]
    }
   ],
   "source": [
    "#question 4\n",
    "# function to check whether a character is upper or lower case\n",
    "def check_case(char):\n",
    "    if char.isupper():\n",
    "        print(\"The character is uppercase.\")\n",
    "    elif char.islower():\n",
    "        print(\"The character is lowercase.\")\n",
    "    else:\n",
    "        print(\"That is not a letter.\")\n",
    "\n",
    "# ask the user to enter one character\n",
    "character = input(\"Enter a character: \")\n",
    "\n",
    "# run the check with the user input\n",
    "check_case(character)\n"
   ]
  },
  {
   "cell_type": "code",
   "execution_count": null,
   "id": "4f30f4eb",
   "metadata": {},
   "outputs": [
    {
     "name": "stdout",
     "output_type": "stream",
     "text": [
      "The value of x is: 1.0416666666666665\n"
     ]
    }
   ],
   "source": [
    "#question 5\n",
    "#Set starting values for x and y\n",
    "x = 0\n",
    "y = 20\n",
    "#Keep looping as long as y has not dropped below 6\n",
    "while y >= 6:\n",
    "\ty = y - 4        # Subtract 4 from y\n",
    "\tx = x + (2 / y)  # Add 2 divided by y to x\n",
    "#Display the final result\n",
    "print(\"The value of x is:\", x)"
   ]
  },
  {
   "cell_type": "code",
   "execution_count": null,
   "id": "8420dc92",
   "metadata": {},
   "outputs": [
    {
     "name": "stdout",
     "output_type": "stream",
     "text": [
      "The average of the 5 numbers is 14.8\n"
     ]
    }
   ],
   "source": [
    "#question 6\n",
    "# create an empty list to store the numbers\n",
    "numbers = []\n",
    "\n",
    "# use a loop to let the user type 5 numbers\n",
    "for i in range(5):\n",
    "    value = float(input(f\"Enter number {i+1}: \"))\n",
    "    numbers.append(value)\n",
    "\n",
    "# work out the average using sum of list divided by how many values\n",
    "average = sum(numbers) / len(numbers)\n",
    "\n",
    "# show the result\n",
    "print(f\"The average of the 5 numbers is {average}\")\n"
   ]
  },
  {
   "cell_type": "code",
   "execution_count": null,
   "id": "bd97980f",
   "metadata": {},
   "outputs": [],
   "source": [
    "#question 7\n",
    "class Solution {\n",
    "    public int solution(int[] A) {\n",
    "        // set up two pointers from both ends\n",
    "        int N = A.length;\n",
    "        int left = 0;\n",
    "        int right = N - 1;\n",
    "        int count = 0;\n",
    "        long lastSeen = Long.MIN_VALUE;\n",
    "        \n",
    "        while (left <= right) {\n",
    "            long leftVal = Math.abs((long) A[left]);\n",
    "            long rightVal = Math.abs((long) A[right]);\n",
    "            \n",
    "            if (leftVal > rightVal) {\n",
    "                // only count if this value hasn’t appeared before\n",
    "                if (leftVal != lastSeen) {\n",
    "                    count++;\n",
    "                    lastSeen = leftVal;\n",
    "                }\n",
    "                left++;\n",
    "            } else if (leftVal < rightVal) {\n",
    "                if (rightVal != lastSeen) {\n",
    "                    count++;\n",
    "                    lastSeen = rightVal;\n",
    "                }\n",
    "                right--;\n",
    "            } else { // case when both sides have the same absolute value\n",
    "                if (leftVal != lastSeen) {\n",
    "                    count++;\n",
    "                    lastSeen = leftVal;\n",
    "                }\n",
    "                left++;\n",
    "                right--;\n",
    "            }\n",
    "        }\n",
    "        return count;\n",
    "    }\n",
    "}\n"
   ]
  }
 ],
 "metadata": {
  "kernelspec": {
   "display_name": "Python 3",
   "language": "python",
   "name": "python3"
  },
  "language_info": {
   "codemirror_mode": {
    "name": "ipython",
    "version": 3
   },
   "file_extension": ".py",
   "mimetype": "text/x-python",
   "name": "python",
   "nbconvert_exporter": "python",
   "pygments_lexer": "ipython3",
   "version": "3.13.7"
  }
 },
 "nbformat": 4,
 "nbformat_minor": 5
}
